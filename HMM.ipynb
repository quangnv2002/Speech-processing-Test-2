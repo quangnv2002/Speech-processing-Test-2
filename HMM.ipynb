{
  "cells": [
    {
      "cell_type": "code",
      "source": [
        "!pip install hmmlearn\n",
        "!pip install python_speech_features"
      ],
      "metadata": {
        "colab": {
          "base_uri": "https://localhost:8080/"
        },
        "id": "hoKhkRXvR_Wv",
        "outputId": "be826ae2-2381-46c4-cc35-a0026d1cd3d3"
      },
      "id": "hoKhkRXvR_Wv",
      "execution_count": 1,
      "outputs": [
        {
          "output_type": "stream",
          "name": "stdout",
          "text": [
            "Collecting hmmlearn\n",
            "  Downloading hmmlearn-0.2.7-cp37-cp37m-manylinux_2_12_x86_64.manylinux2010_x86_64.whl (129 kB)\n",
            "\u001b[?25l\r\u001b[K     |██▌                             | 10 kB 16.5 MB/s eta 0:00:01\r\u001b[K     |█████                           | 20 kB 10.2 MB/s eta 0:00:01\r\u001b[K     |███████▋                        | 30 kB 8.7 MB/s eta 0:00:01\r\u001b[K     |██████████                      | 40 kB 7.7 MB/s eta 0:00:01\r\u001b[K     |████████████▋                   | 51 kB 4.4 MB/s eta 0:00:01\r\u001b[K     |███████████████▏                | 61 kB 5.2 MB/s eta 0:00:01\r\u001b[K     |█████████████████▊              | 71 kB 5.5 MB/s eta 0:00:01\r\u001b[K     |████████████████████▏           | 81 kB 5.6 MB/s eta 0:00:01\r\u001b[K     |██████████████████████▊         | 92 kB 6.2 MB/s eta 0:00:01\r\u001b[K     |█████████████████████████▎      | 102 kB 5.3 MB/s eta 0:00:01\r\u001b[K     |███████████████████████████▊    | 112 kB 5.3 MB/s eta 0:00:01\r\u001b[K     |██████████████████████████████▎ | 122 kB 5.3 MB/s eta 0:00:01\r\u001b[K     |████████████████████████████████| 129 kB 5.3 MB/s \n",
            "\u001b[?25hRequirement already satisfied: scipy>=0.19 in /usr/local/lib/python3.7/dist-packages (from hmmlearn) (1.4.1)\n",
            "Requirement already satisfied: scikit-learn>=0.16 in /usr/local/lib/python3.7/dist-packages (from hmmlearn) (1.0.2)\n",
            "Requirement already satisfied: numpy>=1.10 in /usr/local/lib/python3.7/dist-packages (from hmmlearn) (1.21.6)\n",
            "Requirement already satisfied: joblib>=0.11 in /usr/local/lib/python3.7/dist-packages (from scikit-learn>=0.16->hmmlearn) (1.1.0)\n",
            "Requirement already satisfied: threadpoolctl>=2.0.0 in /usr/local/lib/python3.7/dist-packages (from scikit-learn>=0.16->hmmlearn) (3.1.0)\n",
            "Installing collected packages: hmmlearn\n",
            "Successfully installed hmmlearn-0.2.7\n",
            "Collecting python_speech_features\n",
            "  Downloading python_speech_features-0.6.tar.gz (5.6 kB)\n",
            "Building wheels for collected packages: python-speech-features\n",
            "  Building wheel for python-speech-features (setup.py) ... \u001b[?25l\u001b[?25hdone\n",
            "  Created wheel for python-speech-features: filename=python_speech_features-0.6-py3-none-any.whl size=5888 sha256=1ba80de375b12a14e11f0f9d43f91a0630cee38f743c9a0aafc739426c0ba8ee\n",
            "  Stored in directory: /root/.cache/pip/wheels/b0/0e/94/28cd6afa3cd5998a63eef99fe31777acd7d758f59cf24839eb\n",
            "Successfully built python-speech-features\n",
            "Installing collected packages: python-speech-features\n",
            "Successfully installed python-speech-features-0.6\n"
          ]
        }
      ]
    },
    {
      "cell_type": "code",
      "execution_count": 2,
      "id": "3db27f8d",
      "metadata": {
        "id": "3db27f8d"
      },
      "outputs": [],
      "source": [
        "import librosa\n",
        "import librosa.display\n",
        "import matplotlib.pyplot as plt\n",
        "import IPython.display as dsp\n",
        "import numpy as np\n",
        "import os\n",
        "import shutil\n",
        "import subprocess\n",
        "import random\n",
        "from hmmlearn.base import ConvergenceMonitor\n",
        "from hmmlearn import hmm\n",
        "from sklearn import preprocessing\n",
        "from scipy.io.wavfile import read\n",
        "from python_speech_features import mfcc\n",
        "from python_speech_features import delta"
      ]
    },
    {
      "cell_type": "code",
      "execution_count": 3,
      "id": "dd8b0883",
      "metadata": {
        "id": "dd8b0883"
      },
      "outputs": [],
      "source": [
        "path1 = \"D:\\\\xltn\\\\data\\\\{}\\\\{}\\\\file{}.wav\"\n",
        "path2 = \"D:\\\\xltn\\\\dataset\\\\{}\\\\file{}.wav\""
      ]
    },
    {
      "cell_type": "code",
      "execution_count": 5,
      "id": "628ffd02",
      "metadata": {
        "id": "628ffd02"
      },
      "outputs": [],
      "source": [
        "def mfcc(wav_path, delta=2):\n",
        "    y, sr = librosa.load(wav_path)\n",
        "    # MEL frequency cepstrum coefficient\n",
        "    mfcc_feat = librosa.feature.mfcc(y = y, sr = sr, n_mfcc = 13)\n",
        "    ans = [mfcc_feat]\n",
        "    # Calculate the 1st derivative\n",
        "    if delta >= 1:\n",
        "        mfcc_delta1 = librosa.feature.delta(mfcc_feat, order = 1, mode ='nearest')\n",
        "        ans.append(mfcc_delta1)\n",
        "    # Calculate the 2nd derivative\n",
        "    if delta >= 2:\n",
        "        mfcc_delta2 = librosa.feature.delta(mfcc_feat, order = 2, mode ='nearest')\n",
        "        ans.append(mfcc_delta2)\n",
        "\n",
        "    return np.transpose(np.concatenate(ans, axis = 0),[1,0])"
      ]
    },
    {
      "cell_type": "code",
      "execution_count": 6,
      "id": "2ffcb276",
      "metadata": {
        "id": "2ffcb276"
      },
      "outputs": [],
      "source": [
        "input_folder = \"D:\\\\xltn\\\\dataset\\\\\""
      ]
    },
    {
      "cell_type": "code",
      "execution_count": 7,
      "id": "755e33ef",
      "metadata": {
        "id": "755e33ef"
      },
      "outputs": [],
      "source": [
        "def train_model_hmm(train_dir):\n",
        "    train_files = [x for x in os.listdir(train_dir) if x.endswith('.wav')]\n",
        "    X = np.array([])\n",
        "    for file_name in train_files:\n",
        "        file_path = os.path.join(train_dir, file_name)\n",
        "        try:\n",
        "            features_mfcc = mfcc(file_path)\n",
        "            if len(X) == 0:\n",
        "                X = features_mfcc\n",
        "            else:\n",
        "                try:\n",
        "                    X = np.append(X, features_mfcc, axis=0)\n",
        "                except:\n",
        "                    pass\n",
        "        except:\n",
        "            print(file_path)\n",
        "            pass\n",
        "    model = hmm.GaussianHMM(n_components=4, covariance_type='diag', n_iter=1800)\n",
        "    # fit hmm model\n",
        "    np.seterr(all='ignore')\n",
        "    model.fit(X)\n",
        "    return model"
      ]
    },
    {
      "cell_type": "code",
      "execution_count": null,
      "id": "32218dbf",
      "metadata": {
        "id": "32218dbf",
        "outputId": "e2a39c03-99b7-4c0c-bebb-815addeaeb88"
      },
      "outputs": [
        {
          "name": "stdout",
          "output_type": "stream",
          "text": [
            "D:\\xltn\\dataset\\a\n",
            "D:\\xltn\\dataset\\b\n",
            "D:\\xltn\\dataset\\ban\n",
            "D:\\xltn\\dataset\\len\n",
            "D:\\xltn\\dataset\\nhay\n",
            "D:\\xltn\\dataset\\phai\n",
            "D:\\xltn\\dataset\\trai\n",
            "D:\\xltn\\dataset\\xuong\n"
          ]
        }
      ],
      "source": [
        "# mỗi nhãn tạo một model \n",
        "hmm_models = []\n",
        "for digit in os.listdir(input_folder):\n",
        "    label = digit\n",
        "    path = input_folder+ digit\n",
        "    print(path)\n",
        "    hmm_models.append((train_model_hmm(path), label))"
      ]
    },
    {
      "cell_type": "code",
      "execution_count": null,
      "id": "8f493266",
      "metadata": {
        "id": "8f493266"
      },
      "outputs": [],
      "source": [
        "def predict_hmm(hmm_models, test_file):\n",
        "    features_mfcc_test = mfcc(test_file)\n",
        "    max_score = -float('inf')\n",
        "    predicted_label = \"\"\n",
        "    for item in hmm_models:\n",
        "        model, label = item\n",
        "        score = model.score(features_mfcc_test)\n",
        "        if score > max_score:\n",
        "            max_score = score\n",
        "            predicted_label = label\n",
        "    return predicted_label"
      ]
    },
    {
      "cell_type": "code",
      "execution_count": null,
      "id": "51aacaa5",
      "metadata": {
        "id": "51aacaa5"
      },
      "outputs": [],
      "source": [
        "test_paths = []\n",
        "for path in os.listdir(input_folder):\n",
        "    label = path\n",
        "    arr = os.listdir(input_folder+path)\n",
        "    test_arr = np.random.choice(arr,10)\n",
        "    for test_file in test_arr:\n",
        "        test_paths.append({\n",
        "            \"test_path\" : input_folder+path+\"\\\\\"+test_file,\n",
        "            \"label\": label})"
      ]
    },
    {
      "cell_type": "code",
      "execution_count": null,
      "id": "667f1d8f",
      "metadata": {
        "id": "667f1d8f"
      },
      "outputs": [],
      "source": [
        "predict_true = 0\n",
        "for test in test_paths:\n",
        "    predict_label = predict_hmm(hmm_models,test[\"test_path\"])\n",
        "    if predict_label == test[\"label\"]:\n",
        "        predict_true +=1"
      ]
    },
    {
      "cell_type": "code",
      "execution_count": null,
      "id": "bde2d788",
      "metadata": {
        "id": "bde2d788",
        "outputId": "f1cdae23-3be8-4a51-ef4d-c5027e657a5a"
      },
      "outputs": [
        {
          "data": {
            "text/plain": [
              "0.9375"
            ]
          },
          "execution_count": 15,
          "metadata": {},
          "output_type": "execute_result"
        }
      ],
      "source": [
        "predict_true/len(test_paths)"
      ]
    }
  ],
  "metadata": {
    "kernelspec": {
      "display_name": "Python 3",
      "language": "python",
      "name": "python3"
    },
    "language_info": {
      "codemirror_mode": {
        "name": "ipython",
        "version": 3
      },
      "file_extension": ".py",
      "mimetype": "text/x-python",
      "name": "python",
      "nbconvert_exporter": "python",
      "pygments_lexer": "ipython3",
      "version": "3.6.13"
    },
    "colab": {
      "name": "HMM.ipynb",
      "provenance": []
    }
  },
  "nbformat": 4,
  "nbformat_minor": 5
}