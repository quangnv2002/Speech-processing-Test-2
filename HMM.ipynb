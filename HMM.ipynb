{
 "cells": [
  {
   "cell_type": "code",
   "execution_count": 1,
   "id": "3db27f8d",
   "metadata": {},
   "outputs": [],
   "source": [
    "import librosa\n",
    "import librosa.display\n",
    "import matplotlib.pyplot as plt\n",
    "import IPython.display as dsp\n",
    "import numpy as np\n",
    "import os\n",
    "import shutil\n",
    "import subprocess\n",
    "import random\n",
    "from hmmlearn.base import ConvergenceMonitor\n",
    "from hmmlearn import hmm\n",
    "from sklearn import preprocessing\n",
    "from scipy.io.wavfile import read\n",
    "from python_speech_features import mfcc\n",
    "from python_speech_features import delta"
   ]
  },
  {
   "cell_type": "code",
   "execution_count": 2,
   "id": "dd8b0883",
   "metadata": {},
   "outputs": [],
   "source": [
    "path1 = \"D:\\\\xltn\\\\data\\\\{}\\\\{}\\\\file{}.wav\"\n",
    "path2 = \"D:\\\\xltn\\\\dataset\\\\{}\\\\file{}.wav\""
   ]
  },
  {
   "cell_type": "code",
   "execution_count": 136,
   "id": "93fe642c",
   "metadata": {},
   "outputs": [
    {
     "name": "stdout",
     "output_type": "stream",
     "text": [
      "210\n",
      "210\n",
      "210\n",
      "210\n",
      "210\n",
      "210\n",
      "210\n",
      "210\n"
     ]
    }
   ],
   "source": [
    "#tổng hợp lại file\n",
    "# names = [\"nghia\",\"khiem\",\"minh\",\"giang\",\"huy\",\"hoang\",\"long\"]\n",
    "# labels = [\"a\", 'b', 'ban','nhay','xuong','len','phai','trai']\n",
    "# for label in labels:\n",
    "#     count = 0\n",
    "#     for name in names:\n",
    "#         array = random.sample(range(1,100),30)\n",
    "#         for index in array:\n",
    "#             count += 1\n",
    "#             try:\n",
    "#                 shutil.copyfile(path1.format(name, label,index), path2.format(label,count))\n",
    "#             except:\n",
    "#                 pass\n",
    "#     print(count)     "
   ]
  },
  {
   "cell_type": "code",
   "execution_count": 3,
   "id": "628ffd02",
   "metadata": {},
   "outputs": [],
   "source": [
    "def mfcc(wav_path, delta=2):\n",
    "    \"\"\"\n",
    "    Read .wav files and calculate MFCC\n",
    "    :param wav_path: path of audio file\n",
    "    :param delta: derivative order, default order is 2\n",
    "    :return: mfcc\n",
    "    \"\"\"\n",
    "    y, sr = librosa.load(wav_path)\n",
    "    # MEL frequency cepstrum coefficient\n",
    "    mfcc_feat = librosa.feature.mfcc(y = y, sr = sr, n_mfcc = 13)\n",
    "    ans = [mfcc_feat]\n",
    "    # Calculate the 1st derivative\n",
    "    if delta >= 1:\n",
    "        mfcc_delta1 = librosa.feature.delta(mfcc_feat, order = 1, mode ='nearest')\n",
    "        ans.append(mfcc_delta1)\n",
    "    # Calculate the 2nd derivative\n",
    "    if delta >= 2:\n",
    "        mfcc_delta2 = librosa.feature.delta(mfcc_feat, order = 2, mode ='nearest')\n",
    "        ans.append(mfcc_delta2)\n",
    "\n",
    "    return np.transpose(np.concatenate(ans, axis = 0),[1,0])"
   ]
  },
  {
   "cell_type": "code",
   "execution_count": 4,
   "id": "2ffcb276",
   "metadata": {},
   "outputs": [],
   "source": [
    "input_folder = \"D:\\\\xltn\\\\dataset\\\\\""
   ]
  },
  {
   "cell_type": "code",
   "execution_count": 5,
   "id": "755e33ef",
   "metadata": {},
   "outputs": [],
   "source": [
    "def train_model_hmm(train_dir):\n",
    "    train_files = [x for x in os.listdir(train_dir) if x.endswith('.wav')]\n",
    "    X = np.array([])\n",
    "    for file_name in train_files:\n",
    "        file_path = os.path.join(train_dir, file_name)\n",
    "        try:\n",
    "            features_mfcc = mfcc(file_path)\n",
    "            if len(X) == 0:\n",
    "                X = features_mfcc\n",
    "            else:\n",
    "                try:\n",
    "                    X = np.append(X, features_mfcc, axis=0)\n",
    "                except:\n",
    "                    pass\n",
    "        except:\n",
    "            print(file_path)\n",
    "            pass\n",
    "    model = hmm.GaussianHMM(n_components=4, covariance_type='diag', n_iter=1800)\n",
    "    # fit hmm model\n",
    "    np.seterr(all='ignore')\n",
    "    model.fit(X)\n",
    "    return model"
   ]
  },
  {
   "cell_type": "code",
   "execution_count": 6,
   "id": "32218dbf",
   "metadata": {},
   "outputs": [
    {
     "name": "stdout",
     "output_type": "stream",
     "text": [
      "D:\\xltn\\dataset\\a\n",
      "D:\\xltn\\dataset\\b\n",
      "D:\\xltn\\dataset\\ban\n",
      "D:\\xltn\\dataset\\len\n",
      "D:\\xltn\\dataset\\nhay\n",
      "D:\\xltn\\dataset\\phai\n",
      "D:\\xltn\\dataset\\trai\n",
      "D:\\xltn\\dataset\\xuong\n"
     ]
    }
   ],
   "source": [
    "# mỗi nhãn tạo một model \n",
    "hmm_models = []\n",
    "for digit in os.listdir(input_folder):\n",
    "    label = digit\n",
    "    path = input_folder+ digit\n",
    "    print(path)\n",
    "    hmm_models.append((train_model_hmm(path), label))"
   ]
  },
  {
   "cell_type": "code",
   "execution_count": 7,
   "id": "8f493266",
   "metadata": {},
   "outputs": [],
   "source": [
    "def predict_hmm(hmm_models, test_file):\n",
    "    features_mfcc_test = mfcc(test_file)\n",
    "    max_score = -float('inf')\n",
    "    predicted_label = \"\"\n",
    "    for item in hmm_models:\n",
    "        model, label = item\n",
    "        score = model.score(features_mfcc_test)\n",
    "        if score > max_score:\n",
    "            max_score = score\n",
    "            predicted_label = label\n",
    "    return predicted_label"
   ]
  },
  {
   "cell_type": "code",
   "execution_count": 12,
   "id": "51aacaa5",
   "metadata": {},
   "outputs": [],
   "source": [
    "test_paths = []\n",
    "for path in os.listdir(input_folder):\n",
    "    label = path\n",
    "    arr = os.listdir(input_folder+path)\n",
    "    test_arr = np.random.choice(arr,10)\n",
    "    for test_file in test_arr:\n",
    "        test_paths.append({\n",
    "            \"test_path\" : input_folder+path+\"\\\\\"+test_file,\n",
    "            \"label\": label})"
   ]
  },
  {
   "cell_type": "code",
   "execution_count": 14,
   "id": "667f1d8f",
   "metadata": {},
   "outputs": [],
   "source": [
    "predict_true = 0\n",
    "for test in test_paths:\n",
    "    predict_label = predict_hmm(hmm_models,test[\"test_path\"])\n",
    "    if predict_label == test[\"label\"]:\n",
    "        predict_true +=1"
   ]
  },
  {
   "cell_type": "code",
   "execution_count": 15,
   "id": "bde2d788",
   "metadata": {},
   "outputs": [
    {
     "data": {
      "text/plain": [
       "0.9375"
      ]
     },
     "execution_count": 15,
     "metadata": {},
     "output_type": "execute_result"
    }
   ],
   "source": [
    "predict_true/len(test_paths)"
   ]
  },
  {
   "cell_type": "code",
   "execution_count": null,
   "id": "a0ecf072",
   "metadata": {},
   "outputs": [],
   "source": []
  }
 ],
 "metadata": {
  "kernelspec": {
   "display_name": "Python 3",
   "language": "python",
   "name": "python3"
  },
  "language_info": {
   "codemirror_mode": {
    "name": "ipython",
    "version": 3
   },
   "file_extension": ".py",
   "mimetype": "text/x-python",
   "name": "python",
   "nbconvert_exporter": "python",
   "pygments_lexer": "ipython3",
   "version": "3.6.13"
  }
 },
 "nbformat": 4,
 "nbformat_minor": 5
}
